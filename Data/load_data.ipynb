{
 "cells": [
  {
   "cell_type": "code",
   "execution_count": 211,
   "id": "690622c8-b8c1-4e92-b61b-3a9e657d0108",
   "metadata": {},
   "outputs": [],
   "source": [
    "#import pandas as pd\n",
    "import os\n",
    "import zipfile\n",
    "from glob import glob\n",
    "from sqlalchemy import create_engine"
   ]
  },
  {
   "cell_type": "code",
   "execution_count": 209,
   "id": "3362b96f-4ff6-46e8-8930-8895fb9da3d9",
   "metadata": {},
   "outputs": [],
   "source": [
    "# Using a raw string\n",
    "unzipfolder = zipfile.ZipFile(r'C:\\Users\\Eshetu\\Desktop\\youtube-data.zip')\n",
    "unzipfolder.extractall('C:\\\\Users\\\\Eshetu\\\\Desktop\\\\youtube-data1')"
   ]
  },
  {
   "cell_type": "code",
   "execution_count": 210,
   "id": "64e44abd-aa8b-4bd0-9c0f-b2462ceb54b4",
   "metadata": {},
   "outputs": [],
   "source": [
    "destination = 'C:\\\\Users\\\\Eshetu\\\\Desktop\\\\youtube-data1'\n",
    "for path, subdir, files in os.walk(destination):\n",
    "        for name in files:\n",
    "            fname = name.split('.')[0]\n",
    "            data = zipfile.ZipFile(os.path.join(path,name))\n",
    "            data.extractall(f'C:\\\\Users\\\\Eshetu\\\\Desktop\\\\youtube-data2\\\\{fname}')\n"
   ]
  },
  {
   "cell_type": "code",
   "execution_count": 212,
   "id": "cd77d0d7-3ee8-43a1-9c2e-acd6207d4df5",
   "metadata": {},
   "outputs": [
    {
     "data": {
      "text/plain": [
       "['C:\\\\Users\\\\Eshetu\\\\Desktop\\\\youtube-data2\\\\All\\\\Cities.csv',\n",
       " 'C:\\\\Users\\\\Eshetu\\\\Desktop\\\\youtube-data2\\\\All\\\\Content type.csv',\n",
       " 'C:\\\\Users\\\\Eshetu\\\\Desktop\\\\youtube-data2\\\\All\\\\Device type.csv',\n",
       " 'C:\\\\Users\\\\Eshetu\\\\Desktop\\\\youtube-data2\\\\All\\\\Geography.csv',\n",
       " 'C:\\\\Users\\\\Eshetu\\\\Desktop\\\\youtube-data2\\\\All\\\\New and returning viewers.csv',\n",
       " 'C:\\\\Users\\\\Eshetu\\\\Desktop\\\\youtube-data2\\\\All\\\\Operating system.csv',\n",
       " 'C:\\\\Users\\\\Eshetu\\\\Desktop\\\\youtube-data2\\\\All\\\\Sharing service.csv',\n",
       " 'C:\\\\Users\\\\Eshetu\\\\Desktop\\\\youtube-data2\\\\All\\\\Subscription source.csv',\n",
       " 'C:\\\\Users\\\\Eshetu\\\\Desktop\\\\youtube-data2\\\\All\\\\Subscription status.csv',\n",
       " 'C:\\\\Users\\\\Eshetu\\\\Desktop\\\\youtube-data2\\\\All\\\\Subtitles and CC.csv',\n",
       " 'C:\\\\Users\\\\Eshetu\\\\Desktop\\\\youtube-data2\\\\All\\\\Traffic source.csv',\n",
       " 'C:\\\\Users\\\\Eshetu\\\\Desktop\\\\youtube-data2\\\\All\\\\Viewer age.csv',\n",
       " 'C:\\\\Users\\\\Eshetu\\\\Desktop\\\\youtube-data2\\\\All\\\\Viewer gender.csv',\n",
       " 'C:\\\\Users\\\\Eshetu\\\\Desktop\\\\youtube-data2\\\\All\\\\Viewership by Date.csv',\n",
       " 'C:\\\\Users\\\\Eshetu\\\\Desktop\\\\youtube-data2\\\\Cities\\\\Chart data.csv',\n",
       " 'C:\\\\Users\\\\Eshetu\\\\Desktop\\\\youtube-data2\\\\Cities\\\\Table data.csv',\n",
       " 'C:\\\\Users\\\\Eshetu\\\\Desktop\\\\youtube-data2\\\\Cities\\\\Totals.csv',\n",
       " 'C:\\\\Users\\\\Eshetu\\\\Desktop\\\\youtube-data2\\\\Content type\\\\Chart data.csv',\n",
       " 'C:\\\\Users\\\\Eshetu\\\\Desktop\\\\youtube-data2\\\\Content type\\\\Table data.csv',\n",
       " 'C:\\\\Users\\\\Eshetu\\\\Desktop\\\\youtube-data2\\\\Content type\\\\Totals.csv',\n",
       " 'C:\\\\Users\\\\Eshetu\\\\Desktop\\\\youtube-data2\\\\Device type\\\\Chart data.csv',\n",
       " 'C:\\\\Users\\\\Eshetu\\\\Desktop\\\\youtube-data2\\\\Device type\\\\Table data.csv',\n",
       " 'C:\\\\Users\\\\Eshetu\\\\Desktop\\\\youtube-data2\\\\Device type\\\\Totals.csv',\n",
       " 'C:\\\\Users\\\\Eshetu\\\\Desktop\\\\youtube-data2\\\\Geography\\\\Chart data.csv',\n",
       " 'C:\\\\Users\\\\Eshetu\\\\Desktop\\\\youtube-data2\\\\Geography\\\\Table data.csv',\n",
       " 'C:\\\\Users\\\\Eshetu\\\\Desktop\\\\youtube-data2\\\\Geography\\\\Totals.csv',\n",
       " 'C:\\\\Users\\\\Eshetu\\\\Desktop\\\\youtube-data2\\\\New and returning viewers\\\\Chart data.csv',\n",
       " 'C:\\\\Users\\\\Eshetu\\\\Desktop\\\\youtube-data2\\\\New and returning viewers\\\\Table data.csv',\n",
       " 'C:\\\\Users\\\\Eshetu\\\\Desktop\\\\youtube-data2\\\\New and returning viewers\\\\Totals.csv',\n",
       " 'C:\\\\Users\\\\Eshetu\\\\Desktop\\\\youtube-data2\\\\Operating system\\\\Chart data.csv',\n",
       " 'C:\\\\Users\\\\Eshetu\\\\Desktop\\\\youtube-data2\\\\Operating system\\\\Table data.csv',\n",
       " 'C:\\\\Users\\\\Eshetu\\\\Desktop\\\\youtube-data2\\\\Operating system\\\\Totals.csv',\n",
       " 'C:\\\\Users\\\\Eshetu\\\\Desktop\\\\youtube-data2\\\\Sharing service\\\\Chart data.csv',\n",
       " 'C:\\\\Users\\\\Eshetu\\\\Desktop\\\\youtube-data2\\\\Sharing service\\\\Table data.csv',\n",
       " 'C:\\\\Users\\\\Eshetu\\\\Desktop\\\\youtube-data2\\\\Sharing service\\\\Totals.csv',\n",
       " 'C:\\\\Users\\\\Eshetu\\\\Desktop\\\\youtube-data2\\\\Subscription source\\\\Chart data.csv',\n",
       " 'C:\\\\Users\\\\Eshetu\\\\Desktop\\\\youtube-data2\\\\Subscription source\\\\Table data.csv',\n",
       " 'C:\\\\Users\\\\Eshetu\\\\Desktop\\\\youtube-data2\\\\Subscription source\\\\Totals.csv',\n",
       " 'C:\\\\Users\\\\Eshetu\\\\Desktop\\\\youtube-data2\\\\Subscription status\\\\Chart data.csv',\n",
       " 'C:\\\\Users\\\\Eshetu\\\\Desktop\\\\youtube-data2\\\\Subscription status\\\\Table data.csv',\n",
       " 'C:\\\\Users\\\\Eshetu\\\\Desktop\\\\youtube-data2\\\\Subscription status\\\\Totals.csv',\n",
       " 'C:\\\\Users\\\\Eshetu\\\\Desktop\\\\youtube-data2\\\\Subtitles and CC\\\\Chart data.csv',\n",
       " 'C:\\\\Users\\\\Eshetu\\\\Desktop\\\\youtube-data2\\\\Subtitles and CC\\\\Table data.csv',\n",
       " 'C:\\\\Users\\\\Eshetu\\\\Desktop\\\\youtube-data2\\\\Subtitles and CC\\\\Totals.csv',\n",
       " 'C:\\\\Users\\\\Eshetu\\\\Desktop\\\\youtube-data2\\\\Traffic source\\\\Chart data.csv',\n",
       " 'C:\\\\Users\\\\Eshetu\\\\Desktop\\\\youtube-data2\\\\Traffic source\\\\Table data.csv',\n",
       " 'C:\\\\Users\\\\Eshetu\\\\Desktop\\\\youtube-data2\\\\Traffic source\\\\Totals.csv',\n",
       " 'C:\\\\Users\\\\Eshetu\\\\Desktop\\\\youtube-data2\\\\Viewer age\\\\Table data.csv',\n",
       " 'C:\\\\Users\\\\Eshetu\\\\Desktop\\\\youtube-data2\\\\Viewer gender\\\\Table data.csv',\n",
       " 'C:\\\\Users\\\\Eshetu\\\\Desktop\\\\youtube-data2\\\\Viewership by Date\\\\Table data.csv',\n",
       " 'C:\\\\Users\\\\Eshetu\\\\Desktop\\\\youtube-data2\\\\Viewership by Date\\\\Totals.csv']"
      ]
     },
     "execution_count": 212,
     "metadata": {},
     "output_type": "execute_result"
    }
   ],
   "source": [
    "dest = 'C:\\\\Users\\\\Eshetu\\\\Desktop\\\\youtube-data2\\\\*'\n",
    "glob(f'{dest}/*')\n",
    "#dt = pd.read_csv('C:\\\\Users\\\\Eshetu\\\\Desktop\\\\youtube-data2\\\\Cities\\\\Chart data.csv')"
   ]
  },
  {
   "cell_type": "code",
   "execution_count": 213,
   "id": "419cd294-3850-4bd6-933d-c1423ad5cd1f",
   "metadata": {},
   "outputs": [
    {
     "data": {
      "text/html": [
       "<div>\n",
       "<style scoped>\n",
       "    .dataframe tbody tr th:only-of-type {\n",
       "        vertical-align: middle;\n",
       "    }\n",
       "\n",
       "    .dataframe tbody tr th {\n",
       "        vertical-align: top;\n",
       "    }\n",
       "\n",
       "    .dataframe thead th {\n",
       "        text-align: right;\n",
       "    }\n",
       "</style>\n",
       "<table border=\"1\" class=\"dataframe\">\n",
       "  <thead>\n",
       "    <tr style=\"text-align: right;\">\n",
       "      <th></th>\n",
       "      <th>Date</th>\n",
       "      <th>Views</th>\n",
       "      <th>Watch time (hours)</th>\n",
       "      <th>Average view duration</th>\n",
       "    </tr>\n",
       "  </thead>\n",
       "  <tbody>\n",
       "    <tr>\n",
       "      <th>0</th>\n",
       "      <td>Total</td>\n",
       "      <td>26625.0</td>\n",
       "      <td>2157.3497</td>\n",
       "      <td>0:04:51</td>\n",
       "    </tr>\n",
       "    <tr>\n",
       "      <th>1</th>\n",
       "      <td>2023-12-28</td>\n",
       "      <td>25.0</td>\n",
       "      <td>0.3236</td>\n",
       "      <td>0:00:46</td>\n",
       "    </tr>\n",
       "    <tr>\n",
       "      <th>2</th>\n",
       "      <td>2023-12-27</td>\n",
       "      <td>8.0</td>\n",
       "      <td>0.2989</td>\n",
       "      <td>0:02:14</td>\n",
       "    </tr>\n",
       "    <tr>\n",
       "      <th>3</th>\n",
       "      <td>2023-12-26</td>\n",
       "      <td>57.0</td>\n",
       "      <td>2.4794</td>\n",
       "      <td>0:02:36</td>\n",
       "    </tr>\n",
       "    <tr>\n",
       "      <th>4</th>\n",
       "      <td>2023-12-25</td>\n",
       "      <td>33.0</td>\n",
       "      <td>2.9433</td>\n",
       "      <td>0:05:21</td>\n",
       "    </tr>\n",
       "  </tbody>\n",
       "</table>\n",
       "</div>"
      ],
      "text/plain": [
       "         Date    Views  Watch time (hours) Average view duration\n",
       "0       Total  26625.0           2157.3497               0:04:51\n",
       "1  2023-12-28     25.0              0.3236               0:00:46\n",
       "2  2023-12-27      8.0              0.2989               0:02:14\n",
       "3  2023-12-26     57.0              2.4794               0:02:36\n",
       "4  2023-12-25     33.0              2.9433               0:05:21"
      ]
     },
     "execution_count": 213,
     "metadata": {},
     "output_type": "execute_result"
    }
   ],
   "source": [
    "paths = pd.DataFrame(glob(f'{dest}/*'))\n",
    "paths.columns=[\"Locations\"]\n",
    "data = pd.read_csv('C:\\\\Users\\\\Eshetu\\\\Desktop\\\\youtube-data2\\\\Viewership by Date\\\\Table data.csv')\n",
    "data.to_csv('C:\\\\Users\\\\Eshetu\\\\Desktop\\\\youtube-data2\\\\All\\\\Viewership by Date.csv')\n",
    "data.head()"
   ]
  },
  {
   "cell_type": "code",
   "execution_count": 208,
   "id": "74800b06-8a0a-43a3-8109-bac2b9afa690",
   "metadata": {},
   "outputs": [
    {
     "name": "stdout",
     "output_type": "stream",
     "text": [
      "Cities\n",
      "Content type\n",
      "Device type\n",
      "Geography\n",
      "New and returning viewers\n",
      "Operating system\n",
      "Sharing service\n",
      "Subscription source\n",
      "Subscription status\n",
      "Subtitles and CC\n",
      "Traffic source\n",
      "Viewer age\n",
      "Viewer gender\n",
      "Viewership by Date\n"
     ]
    }
   ],
   "source": [
    "#Loading data to postgres database\n",
    "db_params = {\n",
    "        'host': 'localhost',\n",
    "        'port': '5432',\n",
    "        'database': 'postgres',\n",
    "        'user': 'postgres',\n",
    "        'password': 'root'\n",
    "    }\n",
    "# Create a connection string and SQLAlchemy engine\n",
    "connection_string = f\"postgresql+psycopg2://{db_params['user']}:{db_params['password']}@{db_params['host']}:{db_params['port']}/{db_params['database']}\"\n",
    "engine = create_engine(connection_string)\n",
    "\n",
    "for data in glob('C:\\\\Users\\\\Eshetu\\\\Desktop\\\\youtube-data2\\\\All\\\\*'):\n",
    "    name1 = data.split(\"\\\\\")[6].split('.')[0]\n",
    "    print(name1)\n",
    "    myd = pd.read_csv(data)\n",
    "    myd1 =pd.DataFrame(myd)\n",
    "    myd1.to_sql(name1, engine, if_exists='replace', index=False)"
   ]
  },
  {
   "cell_type": "code",
   "execution_count": null,
   "id": "9bea329f-a87b-4a6c-a4b1-5feecdc5687b",
   "metadata": {},
   "outputs": [],
   "source": []
  }
 ],
 "metadata": {
  "kernelspec": {
   "display_name": "Python 3 (ipykernel)",
   "language": "python",
   "name": "python3"
  },
  "language_info": {
   "codemirror_mode": {
    "name": "ipython",
    "version": 3
   },
   "file_extension": ".py",
   "mimetype": "text/x-python",
   "name": "python",
   "nbconvert_exporter": "python",
   "pygments_lexer": "ipython3",
   "version": "3.10.0"
  }
 },
 "nbformat": 4,
 "nbformat_minor": 5
}
